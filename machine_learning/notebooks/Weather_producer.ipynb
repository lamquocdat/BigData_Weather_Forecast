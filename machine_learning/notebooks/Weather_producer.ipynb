{
 "cells": [
  {
   "cell_type": "code",
   "execution_count": 1,
   "id": "d35beac3",
   "metadata": {},
   "outputs": [
    {
     "ename": "KeyboardInterrupt",
     "evalue": "",
     "output_type": "error",
     "traceback": [
      "\u001b[1;31m---------------------------------------------------------------------------\u001b[0m",
      "\u001b[1;31mKeyboardInterrupt\u001b[0m                         Traceback (most recent call last)",
      "Cell \u001b[1;32mIn[1], line 22\u001b[0m\n\u001b[0;32m     20\u001b[0m     \u001b[38;5;66;03m# Send the data as a Kafka message\u001b[39;00m\n\u001b[0;32m     21\u001b[0m     producer\u001b[38;5;241m.\u001b[39msend(topic_name, value\u001b[38;5;241m=\u001b[39mdata)\n\u001b[1;32m---> 22\u001b[0m     sleep(\u001b[38;5;241m20\u001b[39m)\n\u001b[0;32m     24\u001b[0m producer\u001b[38;5;241m.\u001b[39mclose()\n",
      "\u001b[1;31mKeyboardInterrupt\u001b[0m: "
     ]
    }
   ],
   "source": [
    "from time import sleep\n",
    "from json import dumps\n",
    "from kafka import KafkaProducer\n",
    "import pandas as pd\n",
    "\n",
    "topic_name = 'bigdata'\n",
    "kafka_server = 'localhost:9092'\n",
    "producer = KafkaProducer (bootstrap_servers=kafka_server,value_serializer = lambda x:dumps(x).encode('utf-8'))\n",
    "\n",
    "file_path = '../dataset/weather_dataset.csv'  # Replace with your actual file path\n",
    "csv_data = pd.read_csv(file_path)\n",
    "\n",
    "for index, row in csv_data.iterrows():\n",
    "    data = row.to_dict()\n",
    "    \n",
    "    for key, value in data.items():\n",
    "        if not isinstance(value, str):\n",
    "            data[key] = str(value)\n",
    "\n",
    "    # Send the data as a Kafka message\n",
    "    producer.send(topic_name, value=data)\n",
    "    sleep(5)\n",
    "\n",
    "producer.close()"
   ]
  }
 ],
 "metadata": {
  "kernelspec": {
   "display_name": "Python 3 (ipykernel)",
   "language": "python",
   "name": "python3"
  },
  "language_info": {
   "codemirror_mode": {
    "name": "ipython",
    "version": 3
   },
   "file_extension": ".py",
   "mimetype": "text/x-python",
   "name": "python",
   "nbconvert_exporter": "python",
   "pygments_lexer": "ipython3",
   "version": "3.11.4"
  }
 },
 "nbformat": 4,
 "nbformat_minor": 5
}
