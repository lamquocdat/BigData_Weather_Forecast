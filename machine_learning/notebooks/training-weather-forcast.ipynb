{
 "cells": [
  {
   "cell_type": "code",
   "execution_count": 1,
   "id": "ec722c54",
   "metadata": {
    "_cell_guid": "b1076dfc-b9ad-4769-8c92-a6c4dae69d19",
    "_uuid": "8f2839f25d086af736a60e9eeb907d3b93b6e0e5",
    "execution": {
     "iopub.execute_input": "2024-01-14T11:21:02.957708Z",
     "iopub.status.busy": "2024-01-14T11:21:02.957117Z",
     "iopub.status.idle": "2024-01-14T11:21:03.417005Z",
     "shell.execute_reply": "2024-01-14T11:21:03.415558Z"
    },
    "papermill": {
     "duration": 0.473891,
     "end_time": "2024-01-14T11:21:03.419755",
     "exception": false,
     "start_time": "2024-01-14T11:21:02.945864",
     "status": "completed"
    },
    "tags": []
   },
   "outputs": [
    {
     "name": "stdout",
     "output_type": "stream",
     "text": [
      "/kaggle/input/weather-dataset/weather_dataset.csv\n"
     ]
    }
   ],
   "source": [
    "# This Python 3 environment comes with many helpful analytics libraries installed\n",
    "# It is defined by the kaggle/python Docker image: https://github.com/kaggle/docker-python\n",
    "# For example, here's several helpful packages to load\n",
    "\n",
    "import numpy as np # linear algebra\n",
    "import pandas as pd # data processing, CSV file I/O (e.g. pd.read_csv)\n",
    "\n",
    "# Input data files are available in the read-only \"../input/\" directory\n",
    "# For example, running this (by clicking run or pressing Shift+Enter) will list all files under the input directory\n",
    "\n",
    "import os\n",
    "for dirname, _, filenames in os.walk('/kaggle/input'):\n",
    "    for filename in filenames:\n",
    "        print(os.path.join(dirname, filename))\n",
    "\n",
    "# You can write up to 20GB to the current directory (/kaggle/working/) that gets preserved as output when you create a version using \"Save & Run All\" \n",
    "# You can also write temporary files to /kaggle/temp/, but they won't be saved outside of the current session"
   ]
  },
  {
   "cell_type": "code",
   "execution_count": 2,
   "id": "1b16884d",
   "metadata": {
    "execution": {
     "iopub.execute_input": "2024-01-14T11:21:03.439116Z",
     "iopub.status.busy": "2024-01-14T11:21:03.438549Z",
     "iopub.status.idle": "2024-01-14T11:21:59.008759Z",
     "shell.execute_reply": "2024-01-14T11:21:59.007501Z"
    },
    "papermill": {
     "duration": 55.583488,
     "end_time": "2024-01-14T11:21:59.011878",
     "exception": false,
     "start_time": "2024-01-14T11:21:03.428390",
     "status": "completed"
    },
    "tags": []
   },
   "outputs": [
    {
     "name": "stdout",
     "output_type": "stream",
     "text": [
      "Collecting pyspark\r\n",
      "  Downloading pyspark-3.5.0.tar.gz (316.9 MB)\r\n",
      "\u001b[2K     \u001b[90m━━━━━━━━━━━━━━━━━━━━━━━━━━━━━━━━━━━━━━━\u001b[0m \u001b[32m316.9/316.9 MB\u001b[0m \u001b[31m3.0 MB/s\u001b[0m eta \u001b[36m0:00:00\u001b[0m\r\n",
      "\u001b[?25h  Preparing metadata (setup.py) ... \u001b[?25l-\b \b\\\b \bdone\r\n",
      "\u001b[?25hRequirement already satisfied: py4j==0.10.9.7 in /opt/conda/lib/python3.10/site-packages (from pyspark) (0.10.9.7)\r\n",
      "Building wheels for collected packages: pyspark\r\n",
      "  Building wheel for pyspark (setup.py) ... \u001b[?25l-\b \b\\\b \b|\b \bdone\r\n",
      "\u001b[?25h  Created wheel for pyspark: filename=pyspark-3.5.0-py2.py3-none-any.whl size=317425344 sha256=77320fd73f8b352fcfbe372a0f8175ee28a4863c91e1157e3bd55fa6d734b67c\r\n",
      "  Stored in directory: /root/.cache/pip/wheels/41/4e/10/c2cf2467f71c678cfc8a6b9ac9241e5e44a01940da8fbb17fc\r\n",
      "Successfully built pyspark\r\n",
      "Installing collected packages: pyspark\r\n",
      "Successfully installed pyspark-3.5.0\r\n"
     ]
    }
   ],
   "source": [
    "!pip install pyspark"
   ]
  },
  {
   "cell_type": "code",
   "execution_count": 3,
   "id": "e630b533",
   "metadata": {
    "execution": {
     "iopub.execute_input": "2024-01-14T11:21:59.055589Z",
     "iopub.status.busy": "2024-01-14T11:21:59.055108Z",
     "iopub.status.idle": "2024-01-14T11:22:16.832580Z",
     "shell.execute_reply": "2024-01-14T11:22:16.830853Z"
    },
    "papermill": {
     "duration": 17.804461,
     "end_time": "2024-01-14T11:22:16.836053",
     "exception": false,
     "start_time": "2024-01-14T11:21:59.031592",
     "status": "completed"
    },
    "tags": []
   },
   "outputs": [
    {
     "name": "stderr",
     "output_type": "stream",
     "text": [
      "Setting default log level to \"WARN\".\n",
      "To adjust logging level use sc.setLogLevel(newLevel). For SparkR, use setLogLevel(newLevel).\n",
      "24/01/14 11:22:03 WARN NativeCodeLoader: Unable to load native-hadoop library for your platform... using builtin-java classes where applicable\n",
      "                                                                                \r"
     ]
    }
   ],
   "source": [
    "from pyspark.sql import SparkSession\n",
    "from pyspark.ml import Pipeline\n",
    "from pyspark.ml.feature import StringIndexer, VectorAssembler\n",
    "from pyspark.ml.classification import RandomForestClassifier, LogisticRegression\n",
    "from pyspark.ml.evaluation import MulticlassClassificationEvaluator\n",
    "from pyspark.ml.classification import RandomForestClassificationModel\n",
    "import os\n",
    "\n",
    "# Initialize Spark Session\n",
    "spark = SparkSession.builder.appName('weather_prediction').getOrCreate()\n",
    "\n",
    "# Load the dataset\n",
    "file_path = '/kaggle/input/weather-dataset/weather_dataset.csv'\n",
    "df = spark.read.csv(file_path, header=True, inferSchema=True)"
   ]
  },
  {
   "cell_type": "code",
   "execution_count": 4,
   "id": "7bff8d16",
   "metadata": {
    "execution": {
     "iopub.execute_input": "2024-01-14T11:22:16.881669Z",
     "iopub.status.busy": "2024-01-14T11:22:16.881143Z",
     "iopub.status.idle": "2024-01-14T11:22:17.009831Z",
     "shell.execute_reply": "2024-01-14T11:22:17.008674Z"
    },
    "papermill": {
     "duration": 0.156476,
     "end_time": "2024-01-14T11:22:17.013878",
     "exception": false,
     "start_time": "2024-01-14T11:22:16.857402",
     "status": "completed"
    },
    "tags": []
   },
   "outputs": [],
   "source": [
    "# Selecting relevant columns and dropping rows with missing values\n",
    "# Chọn ra các cột dữ liệu liên quan và loại bỏ những hàng có giá trị thiếu.\n",
    "selected_columns = ['tempC', 'windspeedKmph', 'humidity', 'pressure', 'cloudcover', 'precipMM', 'weatherDesc']\n",
    "df = df.select(selected_columns).na.drop()"
   ]
  },
  {
   "cell_type": "code",
   "execution_count": 5,
   "id": "fbbf5b8d",
   "metadata": {
    "execution": {
     "iopub.execute_input": "2024-01-14T11:22:17.060955Z",
     "iopub.status.busy": "2024-01-14T11:22:17.060500Z",
     "iopub.status.idle": "2024-01-14T11:22:20.241080Z",
     "shell.execute_reply": "2024-01-14T11:22:20.239844Z"
    },
    "papermill": {
     "duration": 3.209096,
     "end_time": "2024-01-14T11:22:20.245491",
     "exception": false,
     "start_time": "2024-01-14T11:22:17.036395",
     "status": "completed"
    },
    "tags": []
   },
   "outputs": [
    {
     "name": "stderr",
     "output_type": "stream",
     "text": [
      "                                                                                \r"
     ]
    }
   ],
   "source": [
    "# Indexing the label column\n",
    "indexer = StringIndexer(inputCol='weatherDesc', outputCol='label')\n",
    "indexer_model = indexer.fit(df)\n",
    "df = indexer_model.transform(df)"
   ]
  },
  {
   "cell_type": "code",
   "execution_count": 6,
   "id": "8f64ae2b",
   "metadata": {
    "execution": {
     "iopub.execute_input": "2024-01-14T11:22:20.308086Z",
     "iopub.status.busy": "2024-01-14T11:22:20.307495Z",
     "iopub.status.idle": "2024-01-14T11:22:20.883805Z",
     "shell.execute_reply": "2024-01-14T11:22:20.882655Z"
    },
    "papermill": {
     "duration": 0.611,
     "end_time": "2024-01-14T11:22:20.887541",
     "exception": false,
     "start_time": "2024-01-14T11:22:20.276541",
     "status": "completed"
    },
    "tags": []
   },
   "outputs": [
    {
     "name": "stdout",
     "output_type": "stream",
     "text": [
      "+-----+-------------+--------+--------+----------+--------+--------------------+-----+\n",
      "|tempC|windspeedKmph|humidity|pressure|cloudcover|precipMM|         weatherDesc|label|\n",
      "+-----+-------------+--------+--------+----------+--------+--------------------+-----+\n",
      "|   25|            8|      97|    1007|        73|     0.2|Patchy rain possible|  1.0|\n",
      "|   25|            8|      97|    1006|        45|     0.0|       Partly cloudy|  0.0|\n",
      "|   25|            8|      97|    1006|        53|     0.0|       Partly cloudy|  0.0|\n",
      "|   25|            8|      97|    1005|        61|     0.0|              Cloudy|  2.0|\n",
      "|   25|            9|      96|    1005|        60|     0.0|              Cloudy|  2.0|\n",
      "|   25|           11|      95|    1006|        59|     0.3|Patchy rain possible|  1.0|\n",
      "|   25|           13|      94|    1006|        58|     0.1|Patchy rain possible|  1.0|\n",
      "|   26|           12|      92|    1007|        51|     0.1|Patchy rain possible|  1.0|\n",
      "|   27|           10|      90|    1007|        45|     0.0|       Partly cloudy|  0.0|\n",
      "|   28|            9|      88|    1008|        38|     0.0|       Partly cloudy|  0.0|\n",
      "|   29|            9|      86|    1007|        82|     0.1|Patchy rain possible|  1.0|\n",
      "|   29|            9|      84|    1006|        84|     1.3| Heavy rain at times|  8.0|\n",
      "|   30|            8|      83|    1005|        76|     1.7|Moderate or heavy...|  6.0|\n",
      "|   29|            9|      84|    1005|        87|     0.3|Patchy rain possible|  1.0|\n",
      "|   29|           10|      86|    1005|        85|     2.5|Moderate or heavy...|  6.0|\n",
      "|   28|           11|      88|    1004|        74|     3.5|Moderate or heavy...|  6.0|\n",
      "|   28|           11|      91|    1005|        77|     0.7|Moderate rain at ...|  7.0|\n",
      "|   28|           10|      93|    1005|        88|     1.7|Moderate or heavy...|  6.0|\n",
      "|   27|           10|      96|    1005|        81|     2.8|Moderate or heavy...|  6.0|\n",
      "|   27|            9|      96|    1006|        89|     1.5|Moderate or heavy...|  6.0|\n",
      "+-----+-------------+--------+--------+----------+--------+--------------------+-----+\n",
      "only showing top 20 rows\n",
      "\n"
     ]
    }
   ],
   "source": [
    "df.show()"
   ]
  },
  {
   "cell_type": "code",
   "execution_count": 7,
   "id": "81dc237e",
   "metadata": {
    "execution": {
     "iopub.execute_input": "2024-01-14T11:22:20.947916Z",
     "iopub.status.busy": "2024-01-14T11:22:20.947432Z",
     "iopub.status.idle": "2024-01-14T11:22:22.887712Z",
     "shell.execute_reply": "2024-01-14T11:22:22.886140Z"
    },
    "papermill": {
     "duration": 1.976002,
     "end_time": "2024-01-14T11:22:22.892110",
     "exception": false,
     "start_time": "2024-01-14T11:22:20.916108",
     "status": "completed"
    },
    "tags": []
   },
   "outputs": [
    {
     "name": "stderr",
     "output_type": "stream",
     "text": [
      "                                                                                \r"
     ]
    }
   ],
   "source": [
    "# lưu lại StringIndexer\n",
    "indexer_model.write().overwrite().save(\"/kaggle/working/StringIndexer\")"
   ]
  },
  {
   "cell_type": "code",
   "execution_count": 8,
   "id": "16f5c956",
   "metadata": {
    "execution": {
     "iopub.execute_input": "2024-01-14T11:22:22.951706Z",
     "iopub.status.busy": "2024-01-14T11:22:22.951233Z",
     "iopub.status.idle": "2024-01-14T11:22:24.437990Z",
     "shell.execute_reply": "2024-01-14T11:22:24.435838Z"
    },
    "papermill": {
     "duration": 1.518509,
     "end_time": "2024-01-14T11:22:24.442751",
     "exception": false,
     "start_time": "2024-01-14T11:22:22.924242",
     "status": "completed"
    },
    "tags": []
   },
   "outputs": [
    {
     "name": "stderr",
     "output_type": "stream",
     "text": [
      "[Stage 10:>                                                         (0 + 4) / 4]\r"
     ]
    },
    {
     "name": "stdout",
     "output_type": "stream",
     "text": [
      "+--------------------+-----+\n",
      "|         weatherDesc|label|\n",
      "+--------------------+-----+\n",
      "| Heavy rain at times|  8.0|\n",
      "|              Cloudy|  2.0|\n",
      "|            Overcast|  3.0|\n",
      "|               Sunny|  4.0|\n",
      "|Moderate or heavy...|  6.0|\n",
      "|       Partly cloudy|  0.0|\n",
      "|Moderate rain at ...|  7.0|\n",
      "|Patchy rain possible|  1.0|\n",
      "|               Clear|  5.0|\n",
      "|Patchy light drizzle| 15.0|\n",
      "|                Mist| 10.0|\n",
      "|   Patchy light rain| 19.0|\n",
      "|Torrential rain s...| 17.0|\n",
      "|Thundery outbreak...| 20.0|\n",
      "|       Light drizzle| 11.0|\n",
      "|          Light rain| 13.0|\n",
      "|                 Fog| 12.0|\n",
      "|       Moderate rain| 14.0|\n",
      "|Patchy light rain...| 16.0|\n",
      "|          Heavy rain| 18.0|\n",
      "+--------------------+-----+\n",
      "only showing top 20 rows\n",
      "\n"
     ]
    },
    {
     "name": "stderr",
     "output_type": "stream",
     "text": [
      "                                                                                \r"
     ]
    }
   ],
   "source": [
    "df.select('weatherDesc', 'label').distinct().show()\n"
   ]
  },
  {
   "cell_type": "code",
   "execution_count": 9,
   "id": "2862a211",
   "metadata": {
    "execution": {
     "iopub.execute_input": "2024-01-14T11:22:24.509819Z",
     "iopub.status.busy": "2024-01-14T11:22:24.508899Z",
     "iopub.status.idle": "2024-01-14T11:22:24.659990Z",
     "shell.execute_reply": "2024-01-14T11:22:24.658785Z"
    },
    "papermill": {
     "duration": 0.188951,
     "end_time": "2024-01-14T11:22:24.664182",
     "exception": false,
     "start_time": "2024-01-14T11:22:24.475231",
     "status": "completed"
    },
    "tags": []
   },
   "outputs": [],
   "source": [
    "# Assembling the features\n",
    "# Tạo vector đặc trưng (features) từ các cột dữ liệu như nhiệt độ, tốc độ gió, độ ẩm, áp suất, mây che phủ và lượng mưa bằng VectorAssembler.\n",
    "assembler = VectorAssembler(inputCols=['tempC', 'windspeedKmph', 'humidity', 'pressure', 'cloudcover', 'precipMM'], outputCol='features')\n",
    "df = assembler.transform(df)"
   ]
  },
  {
   "cell_type": "code",
   "execution_count": 10,
   "id": "0d2eadfe",
   "metadata": {
    "execution": {
     "iopub.execute_input": "2024-01-14T11:22:24.722676Z",
     "iopub.status.busy": "2024-01-14T11:22:24.722175Z",
     "iopub.status.idle": "2024-01-14T11:22:25.312561Z",
     "shell.execute_reply": "2024-01-14T11:22:25.311363Z"
    },
    "papermill": {
     "duration": 0.621614,
     "end_time": "2024-01-14T11:22:25.317813",
     "exception": false,
     "start_time": "2024-01-14T11:22:24.696199",
     "status": "completed"
    },
    "tags": []
   },
   "outputs": [
    {
     "name": "stdout",
     "output_type": "stream",
     "text": [
      "+-----+-------------+--------+--------+----------+--------+--------------------+-----+--------------------+\n",
      "|tempC|windspeedKmph|humidity|pressure|cloudcover|precipMM|         weatherDesc|label|            features|\n",
      "+-----+-------------+--------+--------+----------+--------+--------------------+-----+--------------------+\n",
      "|   25|            8|      97|    1007|        73|     0.2|Patchy rain possible|  1.0|[25.0,8.0,97.0,10...|\n",
      "|   25|            8|      97|    1006|        45|     0.0|       Partly cloudy|  0.0|[25.0,8.0,97.0,10...|\n",
      "|   25|            8|      97|    1006|        53|     0.0|       Partly cloudy|  0.0|[25.0,8.0,97.0,10...|\n",
      "|   25|            8|      97|    1005|        61|     0.0|              Cloudy|  2.0|[25.0,8.0,97.0,10...|\n",
      "|   25|            9|      96|    1005|        60|     0.0|              Cloudy|  2.0|[25.0,9.0,96.0,10...|\n",
      "|   25|           11|      95|    1006|        59|     0.3|Patchy rain possible|  1.0|[25.0,11.0,95.0,1...|\n",
      "|   25|           13|      94|    1006|        58|     0.1|Patchy rain possible|  1.0|[25.0,13.0,94.0,1...|\n",
      "|   26|           12|      92|    1007|        51|     0.1|Patchy rain possible|  1.0|[26.0,12.0,92.0,1...|\n",
      "|   27|           10|      90|    1007|        45|     0.0|       Partly cloudy|  0.0|[27.0,10.0,90.0,1...|\n",
      "|   28|            9|      88|    1008|        38|     0.0|       Partly cloudy|  0.0|[28.0,9.0,88.0,10...|\n",
      "|   29|            9|      86|    1007|        82|     0.1|Patchy rain possible|  1.0|[29.0,9.0,86.0,10...|\n",
      "|   29|            9|      84|    1006|        84|     1.3| Heavy rain at times|  8.0|[29.0,9.0,84.0,10...|\n",
      "|   30|            8|      83|    1005|        76|     1.7|Moderate or heavy...|  6.0|[30.0,8.0,83.0,10...|\n",
      "|   29|            9|      84|    1005|        87|     0.3|Patchy rain possible|  1.0|[29.0,9.0,84.0,10...|\n",
      "|   29|           10|      86|    1005|        85|     2.5|Moderate or heavy...|  6.0|[29.0,10.0,86.0,1...|\n",
      "|   28|           11|      88|    1004|        74|     3.5|Moderate or heavy...|  6.0|[28.0,11.0,88.0,1...|\n",
      "|   28|           11|      91|    1005|        77|     0.7|Moderate rain at ...|  7.0|[28.0,11.0,91.0,1...|\n",
      "|   28|           10|      93|    1005|        88|     1.7|Moderate or heavy...|  6.0|[28.0,10.0,93.0,1...|\n",
      "|   27|           10|      96|    1005|        81|     2.8|Moderate or heavy...|  6.0|[27.0,10.0,96.0,1...|\n",
      "|   27|            9|      96|    1006|        89|     1.5|Moderate or heavy...|  6.0|[27.0,9.0,96.0,10...|\n",
      "+-----+-------------+--------+--------+----------+--------+--------------------+-----+--------------------+\n",
      "only showing top 20 rows\n",
      "\n"
     ]
    }
   ],
   "source": [
    "df.show()"
   ]
  },
  {
   "cell_type": "code",
   "execution_count": 11,
   "id": "36d11719",
   "metadata": {
    "execution": {
     "iopub.execute_input": "2024-01-14T11:22:25.384397Z",
     "iopub.status.busy": "2024-01-14T11:22:25.383474Z",
     "iopub.status.idle": "2024-01-14T11:22:25.425396Z",
     "shell.execute_reply": "2024-01-14T11:22:25.423713Z"
    },
    "papermill": {
     "duration": 0.079626,
     "end_time": "2024-01-14T11:22:25.429731",
     "exception": false,
     "start_time": "2024-01-14T11:22:25.350105",
     "status": "completed"
    },
    "tags": []
   },
   "outputs": [],
   "source": [
    "# Split the data into training and test sets\n",
    "# Chia bộ dữ liệu thành hai phần: dữ liệu huấn luyện và dữ liệu kiểm thử.\n",
    "train_data, test_data = df.randomSplit([0.8, 0.2])"
   ]
  },
  {
   "cell_type": "code",
   "execution_count": 12,
   "id": "2de899a8",
   "metadata": {
    "execution": {
     "iopub.execute_input": "2024-01-14T11:22:25.584645Z",
     "iopub.status.busy": "2024-01-14T11:22:25.584158Z",
     "iopub.status.idle": "2024-01-14T11:22:25.691725Z",
     "shell.execute_reply": "2024-01-14T11:22:25.690265Z"
    },
    "papermill": {
     "duration": 0.234365,
     "end_time": "2024-01-14T11:22:25.695689",
     "exception": false,
     "start_time": "2024-01-14T11:22:25.461324",
     "status": "completed"
    },
    "tags": []
   },
   "outputs": [],
   "source": [
    "# Initialize classifiers\n",
    "# Khởi tạo hai mô hình phân loại: Random Forest và Logistic Regression.\n",
    "rf = RandomForestClassifier(labelCol='label', featuresCol='features')\n",
    "lr = LogisticRegression(labelCol='label', featuresCol='features')"
   ]
  },
  {
   "cell_type": "code",
   "execution_count": 13,
   "id": "fad66abd",
   "metadata": {
    "execution": {
     "iopub.execute_input": "2024-01-14T11:22:25.746512Z",
     "iopub.status.busy": "2024-01-14T11:22:25.746078Z",
     "iopub.status.idle": "2024-01-14T11:22:25.752326Z",
     "shell.execute_reply": "2024-01-14T11:22:25.751028Z"
    },
    "papermill": {
     "duration": 0.033648,
     "end_time": "2024-01-14T11:22:25.754867",
     "exception": false,
     "start_time": "2024-01-14T11:22:25.721219",
     "status": "completed"
    },
    "tags": []
   },
   "outputs": [],
   "source": [
    "# Initialize pipeline\n",
    "# Xây dựng pipeline cho mỗi mô hình để huấn luyện trên dữ liệu.\n",
    "pipeline_rf = Pipeline(stages=[rf])\n",
    "pipeline_lr = Pipeline(stages=[lr])"
   ]
  },
  {
   "cell_type": "code",
   "execution_count": 14,
   "id": "82585959",
   "metadata": {
    "execution": {
     "iopub.execute_input": "2024-01-14T11:22:25.804366Z",
     "iopub.status.busy": "2024-01-14T11:22:25.803067Z",
     "iopub.status.idle": "2024-01-14T11:23:05.435171Z",
     "shell.execute_reply": "2024-01-14T11:23:05.434102Z"
    },
    "papermill": {
     "duration": 39.660821,
     "end_time": "2024-01-14T11:23:05.438731",
     "exception": false,
     "start_time": "2024-01-14T11:22:25.777910",
     "status": "completed"
    },
    "tags": []
   },
   "outputs": [
    {
     "name": "stderr",
     "output_type": "stream",
     "text": [
      "24/01/14 11:22:43 WARN InstanceBuilder: Failed to load implementation from:dev.ludovic.netlib.blas.JNIBLAS\n",
      "24/01/14 11:22:47 ERROR StrongWolfeLineSearch: Encountered bad values in function evaluation. Decreasing step size to 0.5\n",
      "24/01/14 11:22:48 ERROR StrongWolfeLineSearch: Encountered bad values in function evaluation. Decreasing step size to 0.5\n",
      "24/01/14 11:22:48 ERROR StrongWolfeLineSearch: Encountered bad values in function evaluation. Decreasing step size to 0.25\n",
      "24/01/14 11:22:48 ERROR StrongWolfeLineSearch: Encountered bad values in function evaluation. Decreasing step size to 0.125\n",
      "24/01/14 11:22:48 ERROR StrongWolfeLineSearch: Encountered bad values in function evaluation. Decreasing step size to 0.0625\n",
      "24/01/14 11:22:49 ERROR StrongWolfeLineSearch: Encountered bad values in function evaluation. Decreasing step size to 0.0703125\n",
      "24/01/14 11:22:49 ERROR LBFGS: Failure! Resetting history: breeze.optimize.FirstOrderException: Line search zoom failed\n",
      "24/01/14 11:22:53 ERROR StrongWolfeLineSearch: Encountered bad values in function evaluation. Decreasing step size to 0.5\n",
      "24/01/14 11:22:53 ERROR StrongWolfeLineSearch: Encountered bad values in function evaluation. Decreasing step size to 0.5\n",
      "24/01/14 11:22:53 ERROR StrongWolfeLineSearch: Encountered bad values in function evaluation. Decreasing step size to 0.25\n",
      "24/01/14 11:22:53 ERROR StrongWolfeLineSearch: Encountered bad values in function evaluation. Decreasing step size to 0.5\n",
      "24/01/14 11:22:54 ERROR StrongWolfeLineSearch: Encountered bad values in function evaluation. Decreasing step size to 0.25\n",
      "24/01/14 11:22:54 ERROR StrongWolfeLineSearch: Encountered bad values in function evaluation. Decreasing step size to 0.125\n",
      "24/01/14 11:22:54 ERROR StrongWolfeLineSearch: Encountered bad values in function evaluation. Decreasing step size to 0.0625\n",
      "24/01/14 11:22:54 ERROR StrongWolfeLineSearch: Encountered bad values in function evaluation. Decreasing step size to 0.03125\n",
      "24/01/14 11:22:54 ERROR StrongWolfeLineSearch: Encountered bad values in function evaluation. Decreasing step size to 0.015625\n",
      "24/01/14 11:22:54 ERROR StrongWolfeLineSearch: Encountered bad values in function evaluation. Decreasing step size to 0.01171875\n",
      "24/01/14 11:22:55 ERROR LBFGS: Failure! Resetting history: breeze.optimize.FirstOrderException: Line search zoom failed\n",
      "24/01/14 11:22:57 ERROR StrongWolfeLineSearch: Encountered bad values in function evaluation. Decreasing step size to 0.5\n",
      "24/01/14 11:22:57 ERROR StrongWolfeLineSearch: Encountered bad values in function evaluation. Decreasing step size to 0.5\n",
      "24/01/14 11:22:57 ERROR StrongWolfeLineSearch: Encountered bad values in function evaluation. Decreasing step size to 0.25\n",
      "24/01/14 11:22:57 ERROR StrongWolfeLineSearch: Encountered bad values in function evaluation. Decreasing step size to 0.125\n",
      "24/01/14 11:22:57 ERROR StrongWolfeLineSearch: Encountered bad values in function evaluation. Decreasing step size to 0.0625\n",
      "24/01/14 11:22:57 ERROR StrongWolfeLineSearch: Encountered bad values in function evaluation. Decreasing step size to 0.03125\n",
      "24/01/14 11:22:58 ERROR StrongWolfeLineSearch: Encountered bad values in function evaluation. Decreasing step size to 0.03515625\n",
      "24/01/14 11:22:59 ERROR LBFGS: Failure! Resetting history: breeze.optimize.FirstOrderException: Line search zoom failed\n",
      "24/01/14 11:22:59 ERROR StrongWolfeLineSearch: Encountered bad values in function evaluation. Decreasing step size to 0.5\n",
      "24/01/14 11:23:00 ERROR StrongWolfeLineSearch: Encountered bad values in function evaluation. Decreasing step size to 0.25\n",
      "24/01/14 11:23:00 ERROR StrongWolfeLineSearch: Encountered bad values in function evaluation. Decreasing step size to 0.125\n",
      "24/01/14 11:23:00 ERROR StrongWolfeLineSearch: Encountered bad values in function evaluation. Decreasing step size to 0.0625\n",
      "24/01/14 11:23:00 ERROR StrongWolfeLineSearch: Encountered bad values in function evaluation. Decreasing step size to 0.0703125\n",
      "24/01/14 11:23:01 ERROR LBFGS: Failure! Resetting history: breeze.optimize.FirstOrderException: Line search zoom failed\n",
      "24/01/14 11:23:02 ERROR StrongWolfeLineSearch: Encountered bad values in function evaluation. Decreasing step size to 0.5\n",
      "24/01/14 11:23:02 ERROR StrongWolfeLineSearch: Encountered bad values in function evaluation. Decreasing step size to 0.25\n",
      "24/01/14 11:23:02 ERROR StrongWolfeLineSearch: Encountered bad values in function evaluation. Decreasing step size to 0.125\n",
      "24/01/14 11:23:02 ERROR StrongWolfeLineSearch: Encountered bad values in function evaluation. Decreasing step size to 0.0625\n",
      "24/01/14 11:23:02 ERROR StrongWolfeLineSearch: Encountered bad values in function evaluation. Decreasing step size to 0.03125\n",
      "24/01/14 11:23:02 ERROR StrongWolfeLineSearch: Encountered bad values in function evaluation. Decreasing step size to 0.015625\n",
      "24/01/14 11:23:02 ERROR StrongWolfeLineSearch: Encountered bad values in function evaluation. Decreasing step size to 0.0078125\n",
      "24/01/14 11:23:02 ERROR StrongWolfeLineSearch: Encountered bad values in function evaluation. Decreasing step size to 0.00390625\n",
      "24/01/14 11:23:02 ERROR StrongWolfeLineSearch: Encountered bad values in function evaluation. Decreasing step size to 0.001953125\n",
      "24/01/14 11:23:03 ERROR LBFGS: Failure! Resetting history: breeze.optimize.FirstOrderException: Line search failed\n",
      "24/01/14 11:23:03 ERROR StrongWolfeLineSearch: Encountered bad values in function evaluation. Decreasing step size to 0.5\n",
      "24/01/14 11:23:03 ERROR StrongWolfeLineSearch: Encountered bad values in function evaluation. Decreasing step size to 0.25\n",
      "24/01/14 11:23:03 ERROR StrongWolfeLineSearch: Encountered bad values in function evaluation. Decreasing step size to 0.125\n",
      "24/01/14 11:23:03 ERROR StrongWolfeLineSearch: Encountered bad values in function evaluation. Decreasing step size to 0.0625\n",
      "24/01/14 11:23:03 ERROR StrongWolfeLineSearch: Encountered bad values in function evaluation. Decreasing step size to 0.046875\n",
      "24/01/14 11:23:05 ERROR LBFGS: Failure again! Giving up and returning. Maybe the objective is just poorly behaved?\n"
     ]
    }
   ],
   "source": [
    "# Fit the models\n",
    "# Huấn luyện 2 mô hình\n",
    "model_rf = pipeline_rf.fit(train_data)\n",
    "model_lr = pipeline_lr.fit(train_data)"
   ]
  },
  {
   "cell_type": "code",
   "execution_count": 15,
   "id": "ea8abd8c",
   "metadata": {
    "execution": {
     "iopub.execute_input": "2024-01-14T11:23:05.497145Z",
     "iopub.status.busy": "2024-01-14T11:23:05.496211Z",
     "iopub.status.idle": "2024-01-14T11:23:06.724603Z",
     "shell.execute_reply": "2024-01-14T11:23:06.723426Z"
    },
    "papermill": {
     "duration": 1.261969,
     "end_time": "2024-01-14T11:23:06.728795",
     "exception": false,
     "start_time": "2024-01-14T11:23:05.466826",
     "status": "completed"
    },
    "tags": []
   },
   "outputs": [],
   "source": [
    "# Save the Random Forest model\n",
    "model_rf.save(\"/kaggle/working/random_forest_model1\")"
   ]
  },
  {
   "cell_type": "code",
   "execution_count": 16,
   "id": "425e3f09",
   "metadata": {
    "execution": {
     "iopub.execute_input": "2024-01-14T11:23:06.799364Z",
     "iopub.status.busy": "2024-01-14T11:23:06.798463Z",
     "iopub.status.idle": "2024-01-14T11:23:07.331137Z",
     "shell.execute_reply": "2024-01-14T11:23:07.329983Z"
    },
    "papermill": {
     "duration": 0.565306,
     "end_time": "2024-01-14T11:23:07.334443",
     "exception": false,
     "start_time": "2024-01-14T11:23:06.769137",
     "status": "completed"
    },
    "tags": []
   },
   "outputs": [],
   "source": [
    "# Save the Logistic Regression model\n",
    "model_lr.save(\"/kaggle/working/logistic_regression_model1\")"
   ]
  },
  {
   "cell_type": "code",
   "execution_count": 17,
   "id": "d63081be",
   "metadata": {
    "execution": {
     "iopub.execute_input": "2024-01-14T11:23:07.394249Z",
     "iopub.status.busy": "2024-01-14T11:23:07.393721Z",
     "iopub.status.idle": "2024-01-14T11:23:07.535698Z",
     "shell.execute_reply": "2024-01-14T11:23:07.534358Z"
    },
    "papermill": {
     "duration": 0.177702,
     "end_time": "2024-01-14T11:23:07.540325",
     "exception": false,
     "start_time": "2024-01-14T11:23:07.362623",
     "status": "completed"
    },
    "tags": []
   },
   "outputs": [],
   "source": [
    "# Make predictions\n",
    "# Dự đoán trên một tập test\n",
    "predictions_rf = model_rf.transform(test_data)\n",
    "predictions_lr = model_lr.transform(test_data)"
   ]
  },
  {
   "cell_type": "code",
   "execution_count": 18,
   "id": "82a08b5f",
   "metadata": {
    "execution": {
     "iopub.execute_input": "2024-01-14T11:23:07.608382Z",
     "iopub.status.busy": "2024-01-14T11:23:07.607858Z",
     "iopub.status.idle": "2024-01-14T11:23:07.625373Z",
     "shell.execute_reply": "2024-01-14T11:23:07.624276Z"
    },
    "papermill": {
     "duration": 0.053613,
     "end_time": "2024-01-14T11:23:07.628381",
     "exception": false,
     "start_time": "2024-01-14T11:23:07.574768",
     "status": "completed"
    },
    "tags": []
   },
   "outputs": [],
   "source": [
    "# Initialize evaluator\n",
    "# Khởi tạo bộ đánh giá\n",
    "# Sử dụng để đánh giá độ chính xác của mô hình phân loại đa lớp bằng cách so sánh các nhãn dự đoán với các nhãn thực tế trong tập dữ liệu\n",
    "evaluator = MulticlassClassificationEvaluator(labelCol='label', predictionCol='prediction', metricName='accuracy')"
   ]
  },
  {
   "cell_type": "code",
   "execution_count": 19,
   "id": "3809ecc5",
   "metadata": {
    "execution": {
     "iopub.execute_input": "2024-01-14T11:23:07.685694Z",
     "iopub.status.busy": "2024-01-14T11:23:07.685181Z",
     "iopub.status.idle": "2024-01-14T11:23:11.837750Z",
     "shell.execute_reply": "2024-01-14T11:23:11.836371Z"
    },
    "papermill": {
     "duration": 4.185786,
     "end_time": "2024-01-14T11:23:11.841591",
     "exception": false,
     "start_time": "2024-01-14T11:23:07.655805",
     "status": "completed"
    },
    "tags": []
   },
   "outputs": [
    {
     "name": "stderr",
     "output_type": "stream",
     "text": [
      "                                                                                \r"
     ]
    }
   ],
   "source": [
    "# Evaluate the models\n",
    "# Đánh giá độ chính xác của hai mô hình\n",
    "accuracy_rf = evaluator.evaluate(predictions_rf)\n",
    "accuracy_lr = evaluator.evaluate(predictions_lr)"
   ]
  },
  {
   "cell_type": "code",
   "execution_count": 20,
   "id": "eaeb420a",
   "metadata": {
    "execution": {
     "iopub.execute_input": "2024-01-14T11:23:11.924876Z",
     "iopub.status.busy": "2024-01-14T11:23:11.924398Z",
     "iopub.status.idle": "2024-01-14T11:23:11.930548Z",
     "shell.execute_reply": "2024-01-14T11:23:11.929550Z"
    },
    "papermill": {
     "duration": 0.052011,
     "end_time": "2024-01-14T11:23:11.934709",
     "exception": false,
     "start_time": "2024-01-14T11:23:11.882698",
     "status": "completed"
    },
    "tags": []
   },
   "outputs": [
    {
     "name": "stdout",
     "output_type": "stream",
     "text": [
      "Random Forest Accuracy: 0.9152930177631255\n",
      "Logistic Regression Accuracy: 0.8941101215371746\n"
     ]
    }
   ],
   "source": [
    "# Print the results\n",
    "print('Random Forest Accuracy:', accuracy_rf)\n",
    "print('Logistic Regression Accuracy:', accuracy_lr)"
   ]
  },
  {
   "cell_type": "code",
   "execution_count": 21,
   "id": "b95b9038",
   "metadata": {
    "execution": {
     "iopub.execute_input": "2024-01-14T11:23:12.017763Z",
     "iopub.status.busy": "2024-01-14T11:23:12.017211Z",
     "iopub.status.idle": "2024-01-14T11:23:17.745075Z",
     "shell.execute_reply": "2024-01-14T11:23:17.742902Z"
    },
    "papermill": {
     "duration": 5.773256,
     "end_time": "2024-01-14T11:23:17.748147",
     "exception": false,
     "start_time": "2024-01-14T11:23:11.974891",
     "status": "completed"
    },
    "tags": []
   },
   "outputs": [
    {
     "name": "stderr",
     "output_type": "stream",
     "text": [
      "                                                                                \r"
     ]
    }
   ],
   "source": [
    "# Calculate precision, recall, f1-score\n",
    "# Tính toán các chỉ số precision, recall, và f1-score cho hai mô hình\n",
    "evaluator.setMetricName('weightedPrecision')\n",
    "precision_rf = evaluator.evaluate(predictions_rf)\n",
    "precision_lr = evaluator.evaluate(predictions_lr)\n",
    "\n",
    "evaluator.setMetricName('weightedRecall')\n",
    "recall_rf = evaluator.evaluate(predictions_rf)\n",
    "recall_lr = evaluator.evaluate(predictions_lr)\n",
    "\n",
    "evaluator.setMetricName('f1')\n",
    "f1_score_rf = evaluator.evaluate(predictions_rf)\n",
    "f1_score_lr = evaluator.evaluate(predictions_lr)"
   ]
  },
  {
   "cell_type": "code",
   "execution_count": 22,
   "id": "e94ed080",
   "metadata": {
    "execution": {
     "iopub.execute_input": "2024-01-14T11:23:17.810055Z",
     "iopub.status.busy": "2024-01-14T11:23:17.809576Z",
     "iopub.status.idle": "2024-01-14T11:23:17.817859Z",
     "shell.execute_reply": "2024-01-14T11:23:17.816646Z"
    },
    "papermill": {
     "duration": 0.041708,
     "end_time": "2024-01-14T11:23:17.820940",
     "exception": false,
     "start_time": "2024-01-14T11:23:17.779232",
     "status": "completed"
    },
    "tags": []
   },
   "outputs": [
    {
     "name": "stdout",
     "output_type": "stream",
     "text": [
      "Random Forest Precision: 0.9144902079131594\n",
      "Random Forest Recall: 0.9152930177631255\n",
      "Random Forest F1-Score: 0.9130043587831037\n",
      "Logistic Regression Precision: 0.8881620856527626\n",
      "Logistic Regression Recall: 0.8941101215371747\n",
      "Logistic Regression F1-Score: 0.8900699752138951\n"
     ]
    }
   ],
   "source": [
    "# Print the evaluation metrics\n",
    "print('Random Forest Precision:', precision_rf)\n",
    "print('Random Forest Recall:', recall_rf)\n",
    "print('Random Forest F1-Score:', f1_score_rf)\n",
    "print('Logistic Regression Precision:', precision_lr)\n",
    "print('Logistic Regression Recall:', recall_lr)\n",
    "print('Logistic Regression F1-Score:', f1_score_lr)"
   ]
  },
  {
   "cell_type": "code",
   "execution_count": 23,
   "id": "79c0d715",
   "metadata": {
    "execution": {
     "iopub.execute_input": "2024-01-14T11:23:17.884918Z",
     "iopub.status.busy": "2024-01-14T11:23:17.883453Z",
     "iopub.status.idle": "2024-01-14T11:23:18.085154Z",
     "shell.execute_reply": "2024-01-14T11:23:18.084035Z"
    },
    "papermill": {
     "duration": 0.238145,
     "end_time": "2024-01-14T11:23:18.088297",
     "exception": false,
     "start_time": "2024-01-14T11:23:17.850152",
     "status": "completed"
    },
    "tags": []
   },
   "outputs": [],
   "source": [
    "# Stop the Spark session\n",
    "spark.stop()"
   ]
  }
 ],
 "metadata": {
  "kaggle": {
   "accelerator": "none",
   "dataSources": [
    {
     "datasetId": 4302724,
     "sourceId": 7399893,
     "sourceType": "datasetVersion"
    }
   ],
   "dockerImageVersionId": 30635,
   "isGpuEnabled": false,
   "isInternetEnabled": true,
   "language": "python",
   "sourceType": "notebook"
  },
  "kernelspec": {
   "display_name": "Python 3",
   "language": "python",
   "name": "python3"
  },
  "language_info": {
   "codemirror_mode": {
    "name": "ipython",
    "version": 3
   },
   "file_extension": ".py",
   "mimetype": "text/x-python",
   "name": "python",
   "nbconvert_exporter": "python",
   "pygments_lexer": "ipython3",
   "version": "3.10.12"
  },
  "papermill": {
   "default_parameters": {},
   "duration": 141.504669,
   "end_time": "2024-01-14T11:23:20.741307",
   "environment_variables": {},
   "exception": null,
   "input_path": "__notebook__.ipynb",
   "output_path": "__notebook__.ipynb",
   "parameters": {},
   "start_time": "2024-01-14T11:20:59.236638",
   "version": "2.4.0"
  }
 },
 "nbformat": 4,
 "nbformat_minor": 5
}
